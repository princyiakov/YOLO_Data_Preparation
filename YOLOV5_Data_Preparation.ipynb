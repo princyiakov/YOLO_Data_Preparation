{
 "cells": [
  {
   "cell_type": "markdown",
   "metadata": {},
   "source": [
    "# Spit the files into validation, test and train "
   ]
  },
  {
   "cell_type": "code",
   "execution_count": null,
   "metadata": {},
   "outputs": [],
   "source": [
    "# # Creating Train / Val / Test folders (One time use)\n",
    "import os\n",
    "import numpy as np\n",
    "import shutil\n",
    "import random\n",
    "from glob import glob\n",
    "root_dir = '/home/pappacha/dataset/YOLO_Mixed_Persons/totaldata/' # data root path\n",
    "img_root_dir = root_dir + '*.jpg'#classes_dir = ['good', 'bad'] #total labels\n",
    "\n",
    "print(img_root_dir)\n",
    "\n",
    "val_ratio = 0.20\n",
    "test_ratio = 0.10\n",
    "\n",
    "'''for cls in classes_dir:\n",
    "    os.makedirs(root_dir +'train/' + cls)\n",
    "    os.makedirs(root_dir +'val/' + cls)\n",
    "    os.makedirs(root_dir +'test/' + cls)'''\n",
    "\n",
    "os.makedirs(root_dir +'train/')\n",
    "os.makedirs(root_dir +'val/')\n",
    "os.makedirs(root_dir +'test/')\n",
    "\n",
    "# Creating partitions of the data after shuffeling\n",
    "#src = root_dir + cls # Folder to copy images from\n",
    "\n",
    "#allFileNames = os.listdir(img_root_dir)\n",
    "allFileNames = glob(img_root_dir)\n",
    "np.random.shuffle(allFileNames)\n",
    "train_FileNames, val_FileNames, test_FileNames = np.split(np.array(allFileNames),\n",
    "                                                          [int(len(allFileNames)* (1 - (val_ratio + test_ratio))), \n",
    "                                                           int(len(allFileNames)* (1 - test_ratio))])\n",
    "\n",
    "'''print(train_FileNames)\n",
    "train_FileNames = [root_dir+'/'+ name for name in train_FileNames.tolist()]\n",
    "val_FileNames = [root_dir+'/' + name for name in val_FileNames.tolist()]\n",
    "test_FileNames = [root_dir+'/' + name for name in test_FileNames.tolist()]'''\n",
    "\n",
    "print('Total images: ', len(allFileNames))\n",
    "print('Training: ', len(train_FileNames))\n",
    "print('Validation: ', len(val_FileNames))\n",
    "print('Testing: ', len(test_FileNames))\n",
    "\n",
    "# Copy-pasting images\n",
    "for name in train_FileNames:\n",
    "    shutil.copy(name, root_dir +'train/')\n",
    "    txt_file = name.replace(os.path.splitext(name)[-1], '.txt')\n",
    "    shutil.copy(txt_file, root_dir +'train/')\n",
    "\n",
    "for name in val_FileNames:\n",
    "    shutil.copy(name, root_dir +'val/')\n",
    "    txt_file = name.replace(os.path.splitext(name)[-1], '.txt')\n",
    "    shutil.copy(txt_file, root_dir +'val/')\n",
    "\n",
    "for name in test_FileNames:\n",
    "    shutil.copy(name, root_dir +'test/')\n",
    "    txt_file = name.replace(os.path.splitext(name)[-1], '.txt')\n",
    "    shutil.copy(txt_file, root_dir +'test/')"
   ]
  },
  {
   "cell_type": "markdown",
   "metadata": {},
   "source": [
    "# Write the name of files for data preparation for  YOLOv3"
   ]
  },
  {
   "cell_type": "code",
   "execution_count": null,
   "metadata": {},
   "outputs": [],
   "source": [
    "import glob, os\n",
    "os.chdir(\"/home/pappacha/dataset/YOLO_Mixed_Persons/totaldata/val\")\n",
    "for file in glob.glob(\"*.jpg\"):\n",
    "    print(file)\n",
    "    f = open(\"val.txt\", \"a\")\n",
    "    f.write('/home/pappacha/git/darknet/build/darknet/x64/data/obj/' + file + '\\n')\n",
    "f.close()"
   ]
  },
  {
   "cell_type": "code",
   "execution_count": null,
   "metadata": {},
   "outputs": [],
   "source": []
  }
 ],
 "metadata": {
  "kernelspec": {
   "display_name": "Python 3",
   "language": "python",
   "name": "python3"
  },
  "language_info": {
   "codemirror_mode": {
    "name": "ipython",
    "version": 3
   },
   "file_extension": ".py",
   "mimetype": "text/x-python",
   "name": "python",
   "nbconvert_exporter": "python",
   "pygments_lexer": "ipython3",
   "version": "3.7.6"
  }
 },
 "nbformat": 4,
 "nbformat_minor": 4
}
